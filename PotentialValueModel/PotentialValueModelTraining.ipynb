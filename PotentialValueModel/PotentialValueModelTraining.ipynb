{
 "cells": [
  {
   "cell_type": "code",
   "execution_count": 334,
   "metadata": {
    "collapsed": false
   },
   "outputs": [
    {
     "data": {
      "text/html": [
       "<div>\n",
       "<table border=\"1\" class=\"dataframe\">\n",
       "  <thead>\n",
       "    <tr style=\"text-align: right;\">\n",
       "      <th></th>\n",
       "      <th>Age</th>\n",
       "      <th>RelationCompany</th>\n",
       "      <th>Female</th>\n",
       "      <th>Male</th>\n",
       "      <th>CustomerType_CPR0000001</th>\n",
       "      <th>FirstDealDuration</th>\n",
       "      <th>LastDealDuration</th>\n",
       "      <th>License_1.0</th>\n",
       "      <th>Series_A1</th>\n",
       "      <th>Series_A3</th>\n",
       "      <th>...</th>\n",
       "      <th>LastHalfYearGrowthTotalAmountNormalMaintain</th>\n",
       "      <th>NormalMaintainInterval</th>\n",
       "      <th>AvgAmountNormalMaintainOverCarPrice</th>\n",
       "      <th>Last2YearTotalAmountNormalMaintainOverCarPrice</th>\n",
       "      <th>Last1YearTotalAmountNormalMaintainOverCarPrice</th>\n",
       "      <th>LastHalfYearTotalAmountNormalMaintainOverCarPrice</th>\n",
       "      <th>FirstDealMileage</th>\n",
       "      <th>LastDealMileage</th>\n",
       "      <th>AvgDealMileage</th>\n",
       "      <th>y_normal_maintain</th>\n",
       "    </tr>\n",
       "  </thead>\n",
       "  <tbody>\n",
       "    <tr>\n",
       "      <th>0</th>\n",
       "      <td>40</td>\n",
       "      <td>0</td>\n",
       "      <td>0.0</td>\n",
       "      <td>0.0</td>\n",
       "      <td>1.0</td>\n",
       "      <td>22.133333</td>\n",
       "      <td>22.133333</td>\n",
       "      <td>1.0</td>\n",
       "      <td>0.0</td>\n",
       "      <td>0.0</td>\n",
       "      <td>...</td>\n",
       "      <td>0.0</td>\n",
       "      <td>24.000000</td>\n",
       "      <td>0.000000</td>\n",
       "      <td>0.000000</td>\n",
       "      <td>0.000000</td>\n",
       "      <td>0.000000</td>\n",
       "      <td>54400.0</td>\n",
       "      <td>54400.0</td>\n",
       "      <td>54400.000000</td>\n",
       "      <td>0.0</td>\n",
       "    </tr>\n",
       "    <tr>\n",
       "      <th>1</th>\n",
       "      <td>47</td>\n",
       "      <td>0</td>\n",
       "      <td>0.0</td>\n",
       "      <td>0.0</td>\n",
       "      <td>1.0</td>\n",
       "      <td>9.733333</td>\n",
       "      <td>3.366667</td>\n",
       "      <td>1.0</td>\n",
       "      <td>0.0</td>\n",
       "      <td>1.0</td>\n",
       "      <td>...</td>\n",
       "      <td>0.0</td>\n",
       "      <td>8.000000</td>\n",
       "      <td>0.000000</td>\n",
       "      <td>0.000000</td>\n",
       "      <td>0.000000</td>\n",
       "      <td>0.000000</td>\n",
       "      <td>11.0</td>\n",
       "      <td>6702.0</td>\n",
       "      <td>2245.333333</td>\n",
       "      <td>3338.0</td>\n",
       "    </tr>\n",
       "    <tr>\n",
       "      <th>2</th>\n",
       "      <td>39</td>\n",
       "      <td>0</td>\n",
       "      <td>0.0</td>\n",
       "      <td>0.0</td>\n",
       "      <td>1.0</td>\n",
       "      <td>9.966667</td>\n",
       "      <td>1.300000</td>\n",
       "      <td>0.0</td>\n",
       "      <td>0.0</td>\n",
       "      <td>1.0</td>\n",
       "      <td>...</td>\n",
       "      <td>0.0</td>\n",
       "      <td>8.000000</td>\n",
       "      <td>0.000000</td>\n",
       "      <td>0.000000</td>\n",
       "      <td>0.000000</td>\n",
       "      <td>0.000000</td>\n",
       "      <td>5.0</td>\n",
       "      <td>6358.0</td>\n",
       "      <td>2122.666667</td>\n",
       "      <td>1920.0</td>\n",
       "    </tr>\n",
       "    <tr>\n",
       "      <th>3</th>\n",
       "      <td>40</td>\n",
       "      <td>1</td>\n",
       "      <td>0.0</td>\n",
       "      <td>0.0</td>\n",
       "      <td>0.0</td>\n",
       "      <td>9.733333</td>\n",
       "      <td>3.733333</td>\n",
       "      <td>1.0</td>\n",
       "      <td>0.0</td>\n",
       "      <td>1.0</td>\n",
       "      <td>...</td>\n",
       "      <td>0.0</td>\n",
       "      <td>8.000000</td>\n",
       "      <td>0.000000</td>\n",
       "      <td>0.000000</td>\n",
       "      <td>0.000000</td>\n",
       "      <td>0.000000</td>\n",
       "      <td>11.0</td>\n",
       "      <td>4222.0</td>\n",
       "      <td>1418.666667</td>\n",
       "      <td>42.0</td>\n",
       "    </tr>\n",
       "    <tr>\n",
       "      <th>4</th>\n",
       "      <td>45</td>\n",
       "      <td>0</td>\n",
       "      <td>0.0</td>\n",
       "      <td>0.0</td>\n",
       "      <td>1.0</td>\n",
       "      <td>9.733333</td>\n",
       "      <td>5.000000</td>\n",
       "      <td>1.0</td>\n",
       "      <td>0.0</td>\n",
       "      <td>1.0</td>\n",
       "      <td>...</td>\n",
       "      <td>704.0</td>\n",
       "      <td>1.966667</td>\n",
       "      <td>0.001508</td>\n",
       "      <td>0.003016</td>\n",
       "      <td>0.003016</td>\n",
       "      <td>0.003016</td>\n",
       "      <td>11.0</td>\n",
       "      <td>10451.0</td>\n",
       "      <td>3961.000000</td>\n",
       "      <td>0.0</td>\n",
       "    </tr>\n",
       "  </tbody>\n",
       "</table>\n",
       "<p>5 rows × 45 columns</p>\n",
       "</div>"
      ],
      "text/plain": [
       "   Age  RelationCompany  Female  Male  CustomerType_CPR0000001  \\\n",
       "0   40                0     0.0   0.0                      1.0   \n",
       "1   47                0     0.0   0.0                      1.0   \n",
       "2   39                0     0.0   0.0                      1.0   \n",
       "3   40                1     0.0   0.0                      0.0   \n",
       "4   45                0     0.0   0.0                      1.0   \n",
       "\n",
       "   FirstDealDuration  LastDealDuration  License_1.0  Series_A1  Series_A3  \\\n",
       "0          22.133333         22.133333          1.0        0.0        0.0   \n",
       "1           9.733333          3.366667          1.0        0.0        1.0   \n",
       "2           9.966667          1.300000          0.0        0.0        1.0   \n",
       "3           9.733333          3.733333          1.0        0.0        1.0   \n",
       "4           9.733333          5.000000          1.0        0.0        1.0   \n",
       "\n",
       "         ...          LastHalfYearGrowthTotalAmountNormalMaintain  \\\n",
       "0        ...                                                  0.0   \n",
       "1        ...                                                  0.0   \n",
       "2        ...                                                  0.0   \n",
       "3        ...                                                  0.0   \n",
       "4        ...                                                704.0   \n",
       "\n",
       "   NormalMaintainInterval  AvgAmountNormalMaintainOverCarPrice  \\\n",
       "0               24.000000                             0.000000   \n",
       "1                8.000000                             0.000000   \n",
       "2                8.000000                             0.000000   \n",
       "3                8.000000                             0.000000   \n",
       "4                1.966667                             0.001508   \n",
       "\n",
       "   Last2YearTotalAmountNormalMaintainOverCarPrice  \\\n",
       "0                                        0.000000   \n",
       "1                                        0.000000   \n",
       "2                                        0.000000   \n",
       "3                                        0.000000   \n",
       "4                                        0.003016   \n",
       "\n",
       "   Last1YearTotalAmountNormalMaintainOverCarPrice  \\\n",
       "0                                        0.000000   \n",
       "1                                        0.000000   \n",
       "2                                        0.000000   \n",
       "3                                        0.000000   \n",
       "4                                        0.003016   \n",
       "\n",
       "   LastHalfYearTotalAmountNormalMaintainOverCarPrice  FirstDealMileage  \\\n",
       "0                                           0.000000           54400.0   \n",
       "1                                           0.000000              11.0   \n",
       "2                                           0.000000               5.0   \n",
       "3                                           0.000000              11.0   \n",
       "4                                           0.003016              11.0   \n",
       "\n",
       "   LastDealMileage  AvgDealMileage  y_normal_maintain  \n",
       "0          54400.0    54400.000000                0.0  \n",
       "1           6702.0     2245.333333             3338.0  \n",
       "2           6358.0     2122.666667             1920.0  \n",
       "3           4222.0     1418.666667               42.0  \n",
       "4          10451.0     3961.000000                0.0  \n",
       "\n",
       "[5 rows x 45 columns]"
      ]
     },
     "execution_count": 334,
     "metadata": {},
     "output_type": "execute_result"
    }
   ],
   "source": [
    "# -*- coding: utf-8 -*-\n",
    "\"\"\"\n",
    "Created on Mon Aug  22 12:45:22 2016\n",
    "\n",
    "@author: Chaofan\n",
    "\"\"\"\n",
    "\n",
    "#Import libraries\n",
    "import pandas as pd\n",
    "import numpy as np\n",
    "import matplotlib.pyplot as plt\n",
    "%pylab inline\n",
    "import seaborn as sns\n",
    "\n",
    "from sklearn.cross_validation import train_test_split\n",
    "from sklearn.ensemble import RandomForestRegressor\n",
    "from sklearn.preprocessing import StandardScaler\n",
    "from sklearn.linear_model import Ridge\n",
    "from sklearn.linear_model import Lasso\n",
    "from sklearn.preprocessing import PolynomialFeatures\n",
    "from sklearn.ensemble import GradientBoostingRegressor\n",
    "from sklearn.cross_validation import cross_val_score\n",
    "from sklearn.metrics import mean_squared_error, r2_score\n",
    "from sklearn.pipeline import Pipeline\n",
    "from sklearn.grid_search import GridSearchCV\n",
    "\n",
    "#Read the data\n",
    "data = pd.read_csv('chassis_all_filled.csv')\n",
    "\n",
    "#Remove the unique identifier ChassisNumber\n",
    "data = data.ix[:, 1:]\n",
    "data.head()"
   ]
  },
  {
   "cell_type": "code",
   "execution_count": 296,
   "metadata": {
    "collapsed": false
   },
   "outputs": [],
   "source": [
    "'''\n",
    "Our predictors contain three kinds of information: \n",
    "    1. Customer basic personal info like age, gender etc.\n",
    "    2. Customer info of Buying new cars in Yongda like car price\n",
    "    3. Customer maintenance behavior involving Normal Maintenance & Repair \n",
    "\n",
    "Our goal is to use these predictors whose data range is between 2013.7.1 and 2015.7.1 to \n",
    "predict customers' consumption behavior of next year, namely between 2015.7.1 and 2016.7.1.\n",
    "\n",
    "Due to the uncertainty and randomness of Repair behavior affected by too many factors, we only \n",
    "predict the total amount of Normal Maintenance, which is also called Potential Value.\n",
    "'''\n",
    "\n",
    "#Split the data into the training set and the test set\n",
    "predictors = data.columns[:44]\n",
    "target = 'y_normal_maintain'\n",
    "X_train, X_test, y_train, y_test = train_test_split(data[predictors], data[target], test_size=0.2, random_state=6)"
   ]
  },
  {
   "cell_type": "code",
   "execution_count": 54,
   "metadata": {
    "collapsed": false
   },
   "outputs": [
    {
     "data": {
      "text/plain": [
       "6333287.2301318832"
      ]
     },
     "execution_count": 54,
     "metadata": {},
     "output_type": "execute_result"
    }
   ],
   "source": [
    "#First use Random forest as a baseline model and know about feature importances\n",
    "rf = RandomForestRegressor(n_estimators=500, criterion='mse', max_features='sqrt', min_samples_leaf=50)\n",
    "rf.fit(X_train, y_train)\n",
    "rf_y_pred = rf.predict(X_test)\n",
    "rf_score = mean_squared_error(y_true=y_test, y_pred=rf_y_pred)\n",
    "rf_score"
   ]
  },
  {
   "cell_type": "code",
   "execution_count": 299,
   "metadata": {
    "collapsed": false
   },
   "outputs": [
    {
     "data": {
      "text/plain": [
       "<matplotlib.axes._subplots.AxesSubplot at 0x16ccd0810>"
      ]
     },
     "execution_count": 299,
     "metadata": {},
     "output_type": "execute_result"
    },
    {
     "data": {
      "image/png": "[encoded data removed]",
      "text/plain": [
       "<matplotlib.figure.Figure at 0x16db95650>"
      ]
     },
     "metadata": {},
     "output_type": "display_data"
    }
   ],
   "source": [
    "#Plot a graph of feature importances\n",
    "importances = rf.feature_importances_\n",
    "index = np.argsort(importances)[::-1]\n",
    "sorted_importances = importances[index]\n",
    "sorted_importances = sorted_importances / sorted_importances[0]                    \n",
    "importances_v = pd.Series(sorted_importances, index=X_train.columns[index])\n",
    "importances_v[:25][::-1].plot(kind='barh', title='Feature Importances')"
   ]
  },
  {
   "cell_type": "code",
   "execution_count": 303,
   "metadata": {
    "collapsed": false
   },
   "outputs": [
    {
     "data": {
      "text/plain": [
       "[0.001,\n",
       " 0.0031622776601683794,\n",
       " 0.01,\n",
       " 0.031622776601683791,\n",
       " 0.10000000000000001,\n",
       " 0.31622776601683794,\n",
       " 1.0,\n",
       " 3.1622776601683795,\n",
       " 10.0,\n",
       " 31.622776601683793,\n",
       " 100.0,\n",
       " 316.22776601683796,\n",
       " 1000.0]"
      ]
     },
     "execution_count": 303,
     "metadata": {},
     "output_type": "execute_result"
    }
   ],
   "source": [
    "#Linear model: Lasso and Ridge Regression\n",
    "def lasso(X_train, y_train, X_test, y_test, params):\n",
    "    lasso_scores = []\n",
    "    for p in params:\n",
    "        pipe_lasso = Pipeline([('scl', StandardScaler()),\n",
    "                               ('lasso', Lasso(alpha=p, random_state=6))])\n",
    "        pipe_lasso.fit(X_train, y_train)\n",
    "        y_pred = pipe_lasso.predict(X_test)\n",
    "        lasso_score = mean_squared_error(y_true=y_test, y_pred=y_pred)\n",
    "        lasso_scores.append(lasso_score)\n",
    "    return lasso_scores\n",
    " \n",
    "def ridge(X_train, y_train, X_test, y_test, params):\n",
    "    ridge_scores = []\n",
    "    for p in params:\n",
    "        pipe_ridge = Pipeline([('scl', StandardScaler()),\n",
    "                               ('ridge', Ridge(alpha=p, random_state=6))])\n",
    "        pipe_ridge.fit(X_train, y_train)\n",
    "        y_pred = pipe_ridge.predict(X_test)\n",
    "        ridge_score = mean_squared_error(y_true=y_test, y_pred=y_pred)\n",
    "        ridge_scores.append(ridge_score)\n",
    "    return ridge_scores\n",
    "\n",
    "#Define regularization parameters tried in Lasso and Ridge regression\n",
    "params = [10**x for x in np.arange(-3, 3.5, 0.5)]\n",
    "params"
   ]
  },
  {
   "cell_type": "code",
   "execution_count": 304,
   "metadata": {
    "collapsed": false
   },
   "outputs": [
    {
     "data": {
      "text/plain": [
       "[6652984.3531030603,\n",
       " 6652986.9677100265,\n",
       " 6652995.2694694521,\n",
       " 6653021.8583423793,\n",
       " 6653056.6128831413,\n",
       " 6653122.9346670983,\n",
       " 6653875.2542902976,\n",
       " 6655952.3471339568,\n",
       " 6668470.5583041916,\n",
       " 6688227.65613678,\n",
       " 6770048.3507517437,\n",
       " 7005497.1288462318,\n",
       " 8083949.7313785022]"
      ]
     },
     "execution_count": 304,
     "metadata": {},
     "output_type": "execute_result"
    }
   ],
   "source": [
    "#Lasso\n",
    "lasso_scores = lasso(X_train, y_train, X_test, y_test, params)\n",
    "print np.argmin(lasso_scores)   #The result shows that Lasso model is underfitting the data\n",
    "lasso_scores"
   ]
  },
  {
   "cell_type": "code",
   "execution_count": 305,
   "metadata": {
    "collapsed": false
   },
   "outputs": [
    {
     "data": {
      "text/plain": [
       "[6652983.1745924233,\n",
       " 6652983.197289845,\n",
       " 6652983.2690657135,\n",
       " 6652983.4960441319,\n",
       " 6652984.213844873,\n",
       " 6652986.4840486813,\n",
       " 6652993.6662179213,\n",
       " 6653016.4088104963,\n",
       " 6653088.6041821968,\n",
       " 6653318.9094740599,\n",
       " 6654052.1247336837,\n",
       " 6656259.8094261689,\n",
       " 6661766.5178340897]"
      ]
     },
     "execution_count": 305,
     "metadata": {},
     "output_type": "execute_result"
    }
   ],
   "source": [
    "#Ridge regression\n",
    "ridge_scores = ridge(X_train, y_train, X_test, y_test, params)\n",
    "print np.argmin(ridge_scores)   #The result shows that Ridge regression model is underfitting the data\n",
    "ridge_scores"
   ]
  },
  {
   "cell_type": "code",
   "execution_count": 306,
   "metadata": {
    "collapsed": false
   },
   "outputs": [],
   "source": [
    "#Handling the correlation existing among features\n",
    "data[predictors].corr()\n",
    "\n",
    "#After some exploratory analysis of the correlation, choose the following features:\n",
    "new_selected_features = [\n",
    "       u'LastHalfYearTotalAmountNormalMaintain',\n",
    "       u'Last1YearTotalAmountNormalMaintain',\n",
    "       u'Last2YearTotalAmountNormalMaintain',\n",
    "       u'NormalMaintainInterval', u'LastDealDuration',\n",
    "       u'Last1YearGrowthTotalAmountNormalMaintain',\n",
    "       u'LastHalfYearGrowthTotalAmountNormalMaintain', u'CarPrice',\n",
    "       u'AvgAmountNormalMaintain', u'FirstDealMileage', u'FirstDealDuration', u'TotalAmountRepair',\n",
    "       u'WhetherBuyCarInYongda', u'Series_A6',\n",
    "       u'License_1.0', u'Age', u'RelationCompany',\n",
    "       u'Series_A4', u'Series_A8', u'CustomerType_CPR0000001',\n",
    "       u'Male', u'Female']"
   ]
  },
  {
   "cell_type": "code",
   "execution_count": 307,
   "metadata": {
    "collapsed": false
   },
   "outputs": [
    {
     "data": {
      "text/plain": [
       "[6903324.7549845846,\n",
       " 6903327.1109822392,\n",
       " 6903334.5636449829,\n",
       " 6903351.0677327551,\n",
       " 6903385.7821603296,\n",
       " 6903516.0785656134,\n",
       " 6903649.6095686788,\n",
       " 6904465.3542545205,\n",
       " 6908427.8374851709,\n",
       " 6921739.2775032585,\n",
       " 7004898.7493457636,\n",
       " 7243767.6821083743,\n",
       " 8354409.0672098333]"
      ]
     },
     "execution_count": 307,
     "metadata": {},
     "output_type": "execute_result"
    }
   ],
   "source": [
    "#Lasso on data with less correlation\n",
    "lasso_scores = lasso(X_train[new_selected_features], y_train, X_test[new_selected_features], y_test, params) \n",
    "lasso_scores"
   ]
  },
  {
   "cell_type": "code",
   "execution_count": 308,
   "metadata": {
    "collapsed": false
   },
   "outputs": [
    {
     "data": {
      "text/plain": [
       "[6903323.6656943094,\n",
       " 6903323.6660834914,\n",
       " 6903323.6673142118,\n",
       " 6903323.6712062797,\n",
       " 6903323.6835159371,\n",
       " 6903323.7224611398,\n",
       " 6903323.8458030848,\n",
       " 6903324.2377079073,\n",
       " 6903325.4956316343,\n",
       " 6903329.6589745274,\n",
       " 6903344.6577529302,\n",
       " 6903409.7706626216,\n",
       " 6903774.1095065437]"
      ]
     },
     "execution_count": 308,
     "metadata": {},
     "output_type": "execute_result"
    }
   ],
   "source": [
    "#Ridge regression on data with less correlation\n",
    "ridge_scores = ridge(X_train[new_selected_features], y_train, X_test[new_selected_features], y_test, params)  \n",
    "ridge_scores"
   ]
  },
  {
   "cell_type": "code",
   "execution_count": null,
   "metadata": {
    "collapsed": true
   },
   "outputs": [],
   "source": [
    "'''\n",
    "Inference:\n",
    "As we have little useful and valid variables which are very predictive of the target and most of our features are \n",
    "categorical variables, removing some correlated variables undermines the model performance instead.\n",
    "'''"
   ]
  },
  {
   "cell_type": "code",
   "execution_count": 309,
   "metadata": {
    "collapsed": false
   },
   "outputs": [
    {
     "data": {
      "text/plain": [
       "(43108, 496)"
      ]
     },
     "execution_count": 309,
     "metadata": {},
     "output_type": "execute_result"
    }
   ],
   "source": [
    "#Select relatively important features obtained from Random Forest Feature Importance Table\n",
    "selected_features = X_train.columns[index][importances_v > 0.01]\n",
    "\n",
    "#Add polynomial features and increase the model flexibility or complexity of Lasso / Ridge regression\n",
    "X_train_selected = X_train[selected_features]\n",
    "X_test_selected = X_test[selected_features]\n",
    "quad = PolynomialFeatures(2)\n",
    "X_train_quad = quad.fit_transform(X_train_selected)\n",
    "X_test_quad = quad.fit_transform(X_test_selected)\n",
    "X_train_quad.shape"
   ]
  },
  {
   "cell_type": "code",
   "execution_count": 314,
   "metadata": {
    "collapsed": false
   },
   "outputs": [
    {
     "data": {
      "text/plain": [
       "('Best regularization param:',\n",
       " 3,\n",
       " [6388115.4940900747,\n",
       "  6381236.9000865621,\n",
       "  6377729.9502811963,\n",
       "  6376152.7144667003,\n",
       "  6377687.2727549179,\n",
       "  6379822.3472403567,\n",
       "  6381803.5090710251,\n",
       "  6383034.6814392507,\n",
       "  6384290.9621616676,\n",
       "  6385562.131338289,\n",
       "  6387041.6692997897,\n",
       "  6388861.1138859391,\n",
       "  6390966.2541429484,\n",
       "  6393364.5492462246,\n",
       "  6395645.5231225379,\n",
       "  6398037.9820227334,\n",
       "  6400582.6654128833,\n",
       "  6403601.6088742577],\n",
       " 'Best Score:',\n",
       " 6376152.7144667003)"
      ]
     },
     "execution_count": 314,
     "metadata": {},
     "output_type": "execute_result"
    }
   ],
   "source": [
    "#Lasso on data with polynomial features\n",
    "new_params1 = np.arange(1, 10, 0.5)\n",
    "lasso_scores = lasso(X_train_quad, y_train, X_test_quad, y_test, new_params1)\n",
    "'Best regularization param:', np.argmin(lasso_scores), lasso_scores, 'Best Score:', lasso_scores[np.argmin(lasso_scores)]"
   ]
  },
  {
   "cell_type": "code",
   "execution_count": 315,
   "metadata": {
    "collapsed": false
   },
   "outputs": [
    {
     "data": {
      "text/plain": [
       "('Best regularization param:',\n",
       " 5,\n",
       " [6548691.1096511586,\n",
       "  6391310.9937557941,\n",
       "  6387060.4001040822,\n",
       "  6383968.6851780461,\n",
       "  6382303.3692351114,\n",
       "  6382266.5966404099,\n",
       "  6384051.0418323232,\n",
       "  6387865.0373920416,\n",
       "  6393922.3508935515,\n",
       "  6402428.9506163914,\n",
       "  6413597.0515092658,\n",
       "  6427679.1988689238,\n",
       "  6444978.427355052,\n",
       "  6465793.6732759234,\n",
       "  6490311.2504712585],\n",
       " 'Best Score:',\n",
       " 6382266.5966404099)"
      ]
     },
     "execution_count": 315,
     "metadata": {},
     "output_type": "execute_result"
    }
   ],
   "source": [
    "#Ridge regression on data with polynomial features\n",
    "new_params2 = [0] + [10**x for x in np.arange(2.5, 4.5, 0.15)]\n",
    "ridge_scores = ridge(X_train_quad, y_train, X_test_quad, y_test, new_params2)\n",
    "'Best regularization param:', np.argmin(ridge_scores), ridge_scores, 'Best Score:', ridge_scores[np.argmin(ridge_scores)]"
   ]
  },
  {
   "cell_type": "code",
   "execution_count": null,
   "metadata": {
    "collapsed": true
   },
   "outputs": [],
   "source": [
    "'''\n",
    "Inference:\n",
    "Compared with simple linear models, Lasso and Ridge regression with polynomial features do bring some model \n",
    "improvements. But they still can not beat the baseline Random Forest model which is not even optimized.\n",
    "'''"
   ]
  },
  {
   "cell_type": "code",
   "execution_count": 188,
   "metadata": {
    "collapsed": false
   },
   "outputs": [
    {
     "data": {
      "text/plain": [
       "6264383.3905871734"
      ]
     },
     "execution_count": 188,
     "metadata": {},
     "output_type": "execute_result"
    }
   ],
   "source": [
    "#Now let's tune the parameters of Random Forest model to see if the model performance can be improved\n",
    "param_grid = {'n_estimators': [800, 1000, 1200],\n",
    "              'max_features': [0.6, 0.7, 0.85, 1.0],\n",
    "              'min_samples_leaf': [20, 30, 35]}\n",
    "gs = GridSearchCV(estimator=RandomForestRegressor(verbose=2, random_state=6),\n",
    "                  param_grid=param_grid,\n",
    "                  scoring='mean_squared_error',\n",
    "                  cv=5)\n",
    "gs.fit(X_train, y_train)\n",
    "print gs.best_score_\n",
    "print gs.best_params_\n",
    "best_rf = gs.best_estimator_\n",
    "best_rf.fit(X_train, y_train)\n",
    "best_rf_pred = best_rf.predict(X_test)\n",
    "best_rf_score = mean_squared_error(y_true=y_test, y_pred=best_rf_pred)\n",
    "best_rf_score"
   ]
  },
  {
   "cell_type": "code",
   "execution_count": 191,
   "metadata": {
    "collapsed": false
   },
   "outputs": [
    {
     "data": {
      "text/plain": [
       "({'max_features': 0.7, 'min_samples_leaf': 20, 'n_estimators': 800},\n",
       " -6310491.6857147701)"
      ]
     },
     "execution_count": 191,
     "metadata": {},
     "output_type": "execute_result"
    }
   ],
   "source": [
    "gs.best_params_, gs.best_score_, "
   ]
  },
  {
   "cell_type": "code",
   "execution_count": 214,
   "metadata": {
    "collapsed": false
   },
   "outputs": [
    {
     "data": {
      "text/plain": [
       "({'max_features': 0.7, 'min_samples_leaf': 19},\n",
       " -6322245.0535773067,\n",
       " 6266229.3916941769)"
      ]
     },
     "execution_count": 214,
     "metadata": {},
     "output_type": "execute_result"
    }
   ],
   "source": [
    "'''\n",
    "Tuning three parameters at the same time using a large number of estimators costs too much time.\n",
    "Let's find the optimal other 2 parameters first and then tune the 'n_estimators' parameter.    \n",
    "'''\n",
    "param_test1 = {'min_samples_leaf': range(1, 25, 3),\n",
    "               'max_features': ['sqrt', 0.7]}\n",
    "gs1 = GridSearchCV(estimator=RandomForestRegressor(n_estimators=100, verbose=2, random_state=6),\n",
    "                   param_grid=param_test1,\n",
    "                   scoring='mean_squared_error',\n",
    "                   iid=False,\n",
    "                   n_jobs=-1,\n",
    "                   cv=5)\n",
    "gs1.fit(X_train, y_train)\n",
    "best_rf1 = gs1.best_estimator_\n",
    "best_rf1.fit(X_train, y_train)\n",
    "best_rf1_pred = best_rf1.predict(X_test)\n",
    "best_rf1_score = mean_squared_error(y_true=y_test, y_pred=best_rf1_pred)\n",
    "gs1.best_params_, gs1.best_score_, best_rf1_score"
   ]
  },
  {
   "cell_type": "code",
   "execution_count": 215,
   "metadata": {
    "collapsed": false
   },
   "outputs": [
    {
     "data": {
      "text/plain": [
       "({'max_features': 0.7, 'min_samples_leaf': 21},\n",
       " -6312059.2987947417,\n",
       " 6268516.8824807396)"
      ]
     },
     "execution_count": 215,
     "metadata": {},
     "output_type": "execute_result"
    }
   ],
   "source": [
    "param_test2 = {'min_samples_leaf': [17, 19, 21],\n",
    "               'max_features': [0.5, 0.7, 0.9]}\n",
    "gs2 = GridSearchCV(estimator=RandomForestRegressor(n_estimators=200, verbose=2, random_state=6),\n",
    "                   param_grid=param_test2,\n",
    "                   scoring='mean_squared_error',\n",
    "                   iid=False,\n",
    "                   n_jobs=-1,\n",
    "                   cv=5)\n",
    "gs2.fit(X_train, y_train)\n",
    "best_rf2 = gs2.best_estimator_\n",
    "best_rf2.fit(X_train, y_train)\n",
    "best_rf2_pred = best_rf2.predict(X_test)\n",
    "best_rf2_score = mean_squared_error(y_true=y_test, y_pred=best_rf2_pred)\n",
    "gs2.best_params_, gs2.best_score_, best_rf2_score"
   ]
  },
  {
   "cell_type": "code",
   "execution_count": null,
   "metadata": {
    "collapsed": true
   },
   "outputs": [],
   "source": [
    "#Test how to set the n_jobs parameter to run the algorithm faster\n",
    "model1 = RandomForestRegressor(n_estimators=100, max_features='sqrt', n_jobs=1)\n",
    "%timeit model1.fit(X_train, y_train)\n",
    "model2 = RandomForestRegressor(n_estimators=100, max_features='sqrt', n_jobs=-1)\n",
    "%timeit model2.fit(X_train, y_train)"
   ]
  },
  {
   "cell_type": "code",
   "execution_count": 220,
   "metadata": {
    "collapsed": false
   },
   "outputs": [
    {
     "data": {
      "text/plain": [
       "[(1000, 16, 0.31615258633452359, 6265164.8641532045),\n",
       " (1000, 20, 0.31618532541843425, 6263255.1292925635),\n",
       " (1000, 25, 0.31653472580291364, 6262816.1781266294),\n",
       " (1000, 30, 0.31600470074494968, 6271315.3161689714),\n",
       " (1000, 50, 0.31404918435010887, 6291627.5156894075),\n",
       " (1500, 16, 0.31638610394657118, 6265499.6306616766),\n",
       " (1500, 20, 0.3162420307941487, 6263591.2222079989),\n",
       " (1500, 25, 0.31645588233995581, 6264082.8842298547),\n",
       " (1500, 30, 0.31606570102645382, 6269844.7398880571),\n",
       " (1500, 50, 0.31426066931332408, 6290573.6230317559),\n",
       " (2000, 16, 0.3164991765635865, 6263769.2497870214),\n",
       " (2000, 20, 0.316310475898954, 6263991.1630481733),\n",
       " (2000, 25, 0.31643791899191609, 6264311.2321118098),\n",
       " (2000, 30, 0.31619194631499437, 6270245.1494099321),\n",
       " (2000, 50, 0.31425625108203015, 6289648.4674421018)]"
      ]
     },
     "execution_count": 220,
     "metadata": {},
     "output_type": "execute_result"
    }
   ],
   "source": [
    "#To save time, use OOB estimate instead of using cross-validation in Grid Search\n",
    "param_test3 = {'n_estimators': [1000, 1500, 2000],\n",
    "               'min_samples_leaf': [16, 20, 25, 30, 50]}\n",
    "rf_3_scores = []\n",
    "for n in param_test3['n_estimators']:\n",
    "    for m_leaf in param_test3['min_samples_leaf']:\n",
    "        rf_3 = RandomForestRegressor(max_features=0.7, \n",
    "                                     n_estimators=n, \n",
    "                                     min_samples_leaf=m_leaf,\n",
    "                                     oob_score=True,\n",
    "                                     n_jobs=-1,\n",
    "                                     verbose=2, \n",
    "                                     random_state=6)\n",
    "        rf_3.fit(X_train, y_train)\n",
    "        mse = mean_squared_error(y_true=y_test, y_pred=rf_3.predict(X_test))\n",
    "        rf_3_scores.append((n, m_leaf, rf_3.oob_score_, mse))\n",
    "rf_3_scores"
   ]
  },
  {
   "cell_type": "code",
   "execution_count": 330,
   "metadata": {
    "collapsed": false
   },
   "outputs": [
    {
     "data": {
      "text/plain": [
       "[(800, 0.31642956699827673, 6264001.6420100871),\n",
       " (900, 0.31658416674441414, 6263837.9040705133),\n",
       " (1000, 0.31653472580291364, 6262816.1781266294),\n",
       " (1100, 0.31660692350028685, 6264296.7375799362)]"
      ]
     },
     "execution_count": 330,
     "metadata": {},
     "output_type": "execute_result"
    }
   ],
   "source": [
    "param_test4 = {'n_estimators': range(800, 1101, 100)}\n",
    "rf_4_scores = []\n",
    "for n in param_test4['n_estimators']:\n",
    "    rf_4 = RandomForestRegressor(max_features=0.7, \n",
    "                                 n_estimators=n, \n",
    "                                 min_samples_leaf=25,\n",
    "                                 oob_score=True,\n",
    "                                 n_jobs=-1,\n",
    "                                 verbose=2, \n",
    "                                 random_state=6)\n",
    "    rf_4.fit(X_train, y_train)\n",
    "    mse = mean_squared_error(y_true=y_test, y_pred=rf_4.predict(X_test))\n",
    "    rf_4_scores.append((n, rf_4.oob_score_, mse))\n",
    "rf_4_scores"
   ]
  },
  {
   "cell_type": "code",
   "execution_count": 331,
   "metadata": {
    "collapsed": false
   },
   "outputs": [
    {
     "data": {
      "text/plain": [
       "0.0086718231785571556"
      ]
     },
     "execution_count": 331,
     "metadata": {},
     "output_type": "execute_result"
    }
   ],
   "source": [
    "'''\n",
    "Conclusion:\n",
    "Random Forest model can have a better performance with about 6260000 MSE compated with the Lasso performance \n",
    "with 6370000 MSE. \n",
    "\n",
    "The model performance improves by 2%.\n",
    "'''"
   ]
  },
  {
   "cell_type": "code",
   "execution_count": null,
   "metadata": {
    "collapsed": true
   },
   "outputs": [],
   "source": [
    "'''\n",
    "Now Let's try Gradient Boosting Algorithm.\n",
    "'''"
   ]
  },
  {
   "cell_type": "code",
   "execution_count": 229,
   "metadata": {
    "collapsed": false
   },
   "outputs": [
    {
     "data": {
      "text/plain": [
       "([mean: -6450015.61779, std: 208857.11954, params: {'n_estimators': 20},\n",
       "  mean: -6358543.17456, std: 211333.33449, params: {'n_estimators': 30},\n",
       "  mean: -6337872.98428, std: 217134.45286, params: {'n_estimators': 40},\n",
       "  mean: -6328127.51084, std: 219842.69593, params: {'n_estimators': 50},\n",
       "  mean: -6326775.98646, std: 220775.34319, params: {'n_estimators': 60},\n",
       "  mean: -6326709.95327, std: 219266.00859, params: {'n_estimators': 70},\n",
       "  mean: -6328269.37558, std: 220450.22523, params: {'n_estimators': 80}],\n",
       " {'n_estimators': 70},\n",
       " -6326709.953265423)"
      ]
     },
     "execution_count": 229,
     "metadata": {},
     "output_type": "execute_result"
    }
   ],
   "source": [
    "#Step 1: tune the boosting parameters: learning_rate & n_estimators\n",
    "\n",
    "#Fix the learning_rate and find the best n_estimators\n",
    "param_test1 = {'n_estimators': range(20, 81, 10)}\n",
    "gsearch1 = GridSearchCV(estimator=GradientBoostingRegressor(learning_rate=0.1, max_depth=8, min_samples_split=500, min_samples_leaf=50, max_features='sqrt', subsample=0.8, random_state=6, verbose=2),\n",
    "                        param_grid=param_test1,\n",
    "                        scoring='mean_squared_error',\n",
    "                        cv=5,\n",
    "                        iid=False,\n",
    "                        n_jobs=4,\n",
    "                        verbose=2)\n",
    "gsearch1.fit(X_train, y_train)\n",
    "gsearch1.grid_scores_, gsearch1.best_params_, gsearch1.best_score_"
   ]
  },
  {
   "cell_type": "code",
   "execution_count": 230,
   "metadata": {
    "collapsed": false
   },
   "outputs": [
    {
     "data": {
      "text/plain": [
       "6294097.4898872161"
      ]
     },
     "execution_count": 230,
     "metadata": {},
     "output_type": "execute_result"
    }
   ],
   "source": [
    "mean_squared_error(y_test, gsearch1.best_estimator_.predict(X_test))"
   ]
  },
  {
   "cell_type": "code",
   "execution_count": 231,
   "metadata": {
    "collapsed": false
   },
   "outputs": [
    {
     "data": {
      "text/plain": [
       "([mean: -6390564.92327, std: 211227.79792, params: {'min_samples_split': 200, 'max_depth': 5},\n",
       "  mean: -6382137.47183, std: 200625.82828, params: {'min_samples_split': 400, 'max_depth': 5},\n",
       "  mean: -6408965.03257, std: 211308.81819, params: {'min_samples_split': 600, 'max_depth': 5},\n",
       "  mean: -6392485.17975, std: 210164.33479, params: {'min_samples_split': 800, 'max_depth': 5},\n",
       "  mean: -6388302.93097, std: 205918.77160, params: {'min_samples_split': 1000, 'max_depth': 5},\n",
       "  mean: -6365733.57223, std: 214821.87466, params: {'min_samples_split': 200, 'max_depth': 7},\n",
       "  mean: -6354499.19180, std: 205532.37202, params: {'min_samples_split': 400, 'max_depth': 7},\n",
       "  mean: -6353519.62221, std: 221161.91356, params: {'min_samples_split': 600, 'max_depth': 7},\n",
       "  mean: -6353140.13471, std: 215587.72905, params: {'min_samples_split': 800, 'max_depth': 7},\n",
       "  mean: -6363961.30520, std: 227043.12758, params: {'min_samples_split': 1000, 'max_depth': 7},\n",
       "  mean: -6378122.49095, std: 217661.29188, params: {'min_samples_split': 200, 'max_depth': 9},\n",
       "  mean: -6353755.17403, std: 205067.95219, params: {'min_samples_split': 400, 'max_depth': 9},\n",
       "  mean: -6344230.93537, std: 217881.61094, params: {'min_samples_split': 600, 'max_depth': 9},\n",
       "  mean: -6359828.16227, std: 219690.44944, params: {'min_samples_split': 800, 'max_depth': 9},\n",
       "  mean: -6351824.15887, std: 198694.75458, params: {'min_samples_split': 1000, 'max_depth': 9},\n",
       "  mean: -6384333.10306, std: 215836.57579, params: {'min_samples_split': 200, 'max_depth': 11},\n",
       "  mean: -6361029.33096, std: 195408.00614, params: {'min_samples_split': 400, 'max_depth': 11},\n",
       "  mean: -6356407.00020, std: 227777.16242, params: {'min_samples_split': 600, 'max_depth': 11},\n",
       "  mean: -6358490.64929, std: 209705.64070, params: {'min_samples_split': 800, 'max_depth': 11},\n",
       "  mean: -6361172.60708, std: 208091.42327, params: {'min_samples_split': 1000, 'max_depth': 11},\n",
       "  mean: -6428649.19617, std: 230425.95678, params: {'min_samples_split': 200, 'max_depth': 13},\n",
       "  mean: -6381120.06726, std: 204787.75097, params: {'min_samples_split': 400, 'max_depth': 13},\n",
       "  mean: -6365170.51985, std: 198716.90442, params: {'min_samples_split': 600, 'max_depth': 13},\n",
       "  mean: -6367681.98847, std: 209872.73765, params: {'min_samples_split': 800, 'max_depth': 13},\n",
       "  mean: -6361377.46817, std: 221116.39628, params: {'min_samples_split': 1000, 'max_depth': 13},\n",
       "  mean: -6457239.42277, std: 246083.08633, params: {'min_samples_split': 200, 'max_depth': 15},\n",
       "  mean: -6370821.64155, std: 197924.89848, params: {'min_samples_split': 400, 'max_depth': 15},\n",
       "  mean: -6351268.42280, std: 195593.74649, params: {'min_samples_split': 600, 'max_depth': 15},\n",
       "  mean: -6359667.97138, std: 211075.77597, params: {'min_samples_split': 800, 'max_depth': 15},\n",
       "  mean: -6367899.47528, std: 201156.15305, params: {'min_samples_split': 1000, 'max_depth': 15}],\n",
       " {'max_depth': 9, 'min_samples_split': 600},\n",
       " -6344230.9353701193)"
      ]
     },
     "execution_count": 231,
     "metadata": {},
     "output_type": "execute_result"
    }
   ],
   "source": [
    "#Step 2: tune the tree parameters: 'max_depth', 'min_samples_split', 'min_samples_leaf', 'max_features'\n",
    "param_test2 = {'max_depth': range(5, 16, 2), 'min_samples_split': range(200, 1001, 200)}\n",
    "gsearch2 = GridSearchCV(estimator=GradientBoostingRegressor(learning_rate=0.1, n_estimators=70, max_features='sqrt', subsample=0.8, random_state=6, verbose=2),\n",
    "                        param_grid=param_test2,\n",
    "                        scoring='mean_squared_error',\n",
    "                        cv=5,\n",
    "                        iid=False,\n",
    "                        n_jobs=4,\n",
    "                        verbose=2)\n",
    "gsearch2.fit(X_train, y_train)\n",
    "gsearch2.grid_scores_, gsearch2.best_params_, gsearch2.best_score_"
   ]
  },
  {
   "cell_type": "code",
   "execution_count": 232,
   "metadata": {
    "collapsed": false
   },
   "outputs": [
    {
     "data": {
      "text/plain": [
       "6280221.7409751248"
      ]
     },
     "execution_count": 232,
     "metadata": {},
     "output_type": "execute_result"
    }
   ],
   "source": [
    "mean_squared_error(y_test, gsearch2.best_estimator_.predict(X_test))"
   ]
  },
  {
   "cell_type": "code",
   "execution_count": 234,
   "metadata": {
    "collapsed": false
   },
   "outputs": [
    {
     "data": {
      "text/plain": [
       "([mean: -6338852.42785, std: 202442.26811, params: {'max_features': 'sqrt', 'min_samples_leaf': 10},\n",
       "  mean: -6319610.32688, std: 212232.33122, params: {'max_features': 'sqrt', 'min_samples_leaf': 20},\n",
       "  mean: -6322488.50938, std: 213408.92797, params: {'max_features': 'sqrt', 'min_samples_leaf': 30},\n",
       "  mean: -6307222.52016, std: 212179.98073, params: {'max_features': 'sqrt', 'min_samples_leaf': 40},\n",
       "  mean: -6312117.51953, std: 204466.70901, params: {'max_features': 'sqrt', 'min_samples_leaf': 50},\n",
       "  mean: -6315562.35976, std: 215364.06405, params: {'max_features': 'sqrt', 'min_samples_leaf': 60},\n",
       "  mean: -6306467.92646, std: 199735.50965, params: {'max_features': 'sqrt', 'min_samples_leaf': 70},\n",
       "  mean: -6353893.12762, std: 189440.60142, params: {'max_features': 0.5, 'min_samples_leaf': 10},\n",
       "  mean: -6342160.65140, std: 217884.26361, params: {'max_features': 0.5, 'min_samples_leaf': 20},\n",
       "  mean: -6325384.12073, std: 217656.00033, params: {'max_features': 0.5, 'min_samples_leaf': 30},\n",
       "  mean: -6325870.55378, std: 205009.75665, params: {'max_features': 0.5, 'min_samples_leaf': 40},\n",
       "  mean: -6322843.37969, std: 205203.51070, params: {'max_features': 0.5, 'min_samples_leaf': 50},\n",
       "  mean: -6317769.43531, std: 228891.45843, params: {'max_features': 0.5, 'min_samples_leaf': 60},\n",
       "  mean: -6325018.19035, std: 227638.04510, params: {'max_features': 0.5, 'min_samples_leaf': 70},\n",
       "  mean: -6356864.06234, std: 198180.12252, params: {'max_features': 0.6, 'min_samples_leaf': 10},\n",
       "  mean: -6348269.43117, std: 212423.65717, params: {'max_features': 0.6, 'min_samples_leaf': 20},\n",
       "  mean: -6345447.10970, std: 200776.80866, params: {'max_features': 0.6, 'min_samples_leaf': 30},\n",
       "  mean: -6336333.35011, std: 216233.80116, params: {'max_features': 0.6, 'min_samples_leaf': 40},\n",
       "  mean: -6317953.16510, std: 203117.36876, params: {'max_features': 0.6, 'min_samples_leaf': 50},\n",
       "  mean: -6327106.75141, std: 218132.07133, params: {'max_features': 0.6, 'min_samples_leaf': 60},\n",
       "  mean: -6325870.08489, std: 211794.07090, params: {'max_features': 0.6, 'min_samples_leaf': 70},\n",
       "  mean: -6344700.30079, std: 215463.48321, params: {'max_features': 0.7, 'min_samples_leaf': 10},\n",
       "  mean: -6359155.03368, std: 210980.12350, params: {'max_features': 0.7, 'min_samples_leaf': 20},\n",
       "  mean: -6361618.72311, std: 218040.72574, params: {'max_features': 0.7, 'min_samples_leaf': 30},\n",
       "  mean: -6343968.48697, std: 236798.79332, params: {'max_features': 0.7, 'min_samples_leaf': 40},\n",
       "  mean: -6342037.97114, std: 244407.67060, params: {'max_features': 0.7, 'min_samples_leaf': 50},\n",
       "  mean: -6314591.34246, std: 229613.82407, params: {'max_features': 0.7, 'min_samples_leaf': 60},\n",
       "  mean: -6327773.41821, std: 227737.66007, params: {'max_features': 0.7, 'min_samples_leaf': 70},\n",
       "  mean: -6355271.77861, std: 221517.33393, params: {'max_features': 0.8, 'min_samples_leaf': 10},\n",
       "  mean: -6369230.91964, std: 216888.06832, params: {'max_features': 0.8, 'min_samples_leaf': 20},\n",
       "  mean: -6367493.01360, std: 221960.76266, params: {'max_features': 0.8, 'min_samples_leaf': 30},\n",
       "  mean: -6353890.57704, std: 231776.71609, params: {'max_features': 0.8, 'min_samples_leaf': 40},\n",
       "  mean: -6349757.94437, std: 218946.77366, params: {'max_features': 0.8, 'min_samples_leaf': 50},\n",
       "  mean: -6329494.03463, std: 227111.28392, params: {'max_features': 0.8, 'min_samples_leaf': 60},\n",
       "  mean: -6332924.73282, std: 234434.11511, params: {'max_features': 0.8, 'min_samples_leaf': 70},\n",
       "  mean: -6357969.06573, std: 228995.32267, params: {'max_features': 0.9, 'min_samples_leaf': 10},\n",
       "  mean: -6364456.07323, std: 220065.09742, params: {'max_features': 0.9, 'min_samples_leaf': 20},\n",
       "  mean: -6358477.14640, std: 223295.76480, params: {'max_features': 0.9, 'min_samples_leaf': 30},\n",
       "  mean: -6342694.54915, std: 225971.37625, params: {'max_features': 0.9, 'min_samples_leaf': 40},\n",
       "  mean: -6344878.21013, std: 220596.59939, params: {'max_features': 0.9, 'min_samples_leaf': 50},\n",
       "  mean: -6335437.65846, std: 213036.69170, params: {'max_features': 0.9, 'min_samples_leaf': 60},\n",
       "  mean: -6328923.61103, std: 237840.20829, params: {'max_features': 0.9, 'min_samples_leaf': 70}],\n",
       " {'max_features': 'sqrt', 'min_samples_leaf': 70},\n",
       " -6306467.9264576789)"
      ]
     },
     "execution_count": 234,
     "metadata": {},
     "output_type": "execute_result"
    }
   ],
   "source": [
    "param_test3 = {'min_samples_leaf': range(10, 71, 10), 'max_features': ['sqrt', 0.5, 0.6, 0.7, 0.8, 0.9]}\n",
    "gsearch3 = GridSearchCV(estimator=GradientBoostingRegressor(learning_rate=0.1, n_estimators=70, max_depth=9, min_samples_split=600, subsample=0.8, random_state=6, verbose=2),\n",
    "                        param_grid=param_test3,\n",
    "                        scoring='mean_squared_error',\n",
    "                        cv=5,\n",
    "                        iid=False,\n",
    "                        n_jobs=4,\n",
    "                        verbose=2)\n",
    "gsearch3.fit(X_train, y_train)\n",
    "gsearch3.grid_scores_, gsearch3.best_params_, gsearch3.best_score_"
   ]
  },
  {
   "cell_type": "code",
   "execution_count": 239,
   "metadata": {
    "collapsed": false
   },
   "outputs": [
    {
     "data": {
      "text/plain": [
       "6278126.1497043557"
      ]
     },
     "execution_count": 239,
     "metadata": {},
     "output_type": "execute_result"
    }
   ],
   "source": [
    "mean_squared_error(y_test, gsearch3.best_estimator_.predict(X_test))"
   ]
  },
  {
   "cell_type": "code",
   "execution_count": 238,
   "metadata": {
    "collapsed": false
   },
   "outputs": [
    {
     "data": {
      "text/plain": [
       "([mean: -6338325.33982, std: 219960.35318, params: {'max_features': 2, 'min_samples_leaf': 70},\n",
       "  mean: -6342575.25968, std: 204126.98098, params: {'max_features': 2, 'min_samples_leaf': 80},\n",
       "  mean: -6345962.61769, std: 203383.30546, params: {'max_features': 2, 'min_samples_leaf': 90},\n",
       "  mean: -6345675.17932, std: 216805.02978, params: {'max_features': 2, 'min_samples_leaf': 100},\n",
       "  mean: -6324220.85532, std: 219288.80493, params: {'max_features': 4, 'min_samples_leaf': 70},\n",
       "  mean: -6328296.01811, std: 217044.47313, params: {'max_features': 4, 'min_samples_leaf': 80},\n",
       "  mean: -6318862.52898, std: 223635.59875, params: {'max_features': 4, 'min_samples_leaf': 90},\n",
       "  mean: -6332230.86536, std: 216323.86464, params: {'max_features': 4, 'min_samples_leaf': 100},\n",
       "  mean: -6306467.92646, std: 199735.50965, params: {'max_features': 6, 'min_samples_leaf': 70},\n",
       "  mean: -6300088.51020, std: 222267.35791, params: {'max_features': 6, 'min_samples_leaf': 80},\n",
       "  mean: -6302559.49424, std: 201700.11827, params: {'max_features': 6, 'min_samples_leaf': 90},\n",
       "  mean: -6303311.25738, std: 227883.46916, params: {'max_features': 6, 'min_samples_leaf': 100},\n",
       "  mean: -6310751.60878, std: 220999.43438, params: {'max_features': 8, 'min_samples_leaf': 70},\n",
       "  mean: -6296053.41808, std: 202845.80366, params: {'max_features': 8, 'min_samples_leaf': 80},\n",
       "  mean: -6295183.41832, std: 201266.71035, params: {'max_features': 8, 'min_samples_leaf': 90},\n",
       "  mean: -6300539.36646, std: 211760.84444, params: {'max_features': 8, 'min_samples_leaf': 100},\n",
       "  mean: -6310653.96898, std: 215590.43523, params: {'max_features': 10, 'min_samples_leaf': 70},\n",
       "  mean: -6303139.92699, std: 227205.88288, params: {'max_features': 10, 'min_samples_leaf': 80},\n",
       "  mean: -6304917.48629, std: 213972.78862, params: {'max_features': 10, 'min_samples_leaf': 90},\n",
       "  mean: -6294469.29641, std: 222053.72599, params: {'max_features': 10, 'min_samples_leaf': 100},\n",
       "  mean: -6308943.80047, std: 204263.37736, params: {'max_features': 12, 'min_samples_leaf': 70},\n",
       "  mean: -6308701.53863, std: 222793.03487, params: {'max_features': 12, 'min_samples_leaf': 80},\n",
       "  mean: -6304218.77099, std: 218352.06526, params: {'max_features': 12, 'min_samples_leaf': 90},\n",
       "  mean: -6306910.99178, std: 216548.20854, params: {'max_features': 12, 'min_samples_leaf': 100},\n",
       "  mean: -6313520.52220, std: 217207.04368, params: {'max_features': 14, 'min_samples_leaf': 70},\n",
       "  mean: -6318372.77624, std: 219587.59880, params: {'max_features': 14, 'min_samples_leaf': 80},\n",
       "  mean: -6317329.26083, std: 222409.11363, params: {'max_features': 14, 'min_samples_leaf': 90},\n",
       "  mean: -6320422.22654, std: 214743.73381, params: {'max_features': 14, 'min_samples_leaf': 100}],\n",
       " {'max_features': 10, 'min_samples_leaf': 100},\n",
       " -6294469.2964092093)"
      ]
     },
     "execution_count": 238,
     "metadata": {},
     "output_type": "execute_result"
    }
   ],
   "source": [
    "param_test4 = {'min_samples_leaf': range(70, 101, 10), 'max_features': range(2, 16, 2)}\n",
    "gsearch4 = GridSearchCV(estimator=GradientBoostingRegressor(learning_rate=0.1, n_estimators=70, max_depth=9, min_samples_split=600, subsample=0.8, random_state=6, verbose=2),\n",
    "                        param_grid=param_test4,\n",
    "                        scoring='mean_squared_error',\n",
    "                        cv=5,\n",
    "                        iid=False,\n",
    "                        n_jobs=-1,\n",
    "                        verbose=2)\n",
    "gsearch4.fit(X_train, y_train)\n",
    "gsearch4.grid_scores_, gsearch4.best_params_, gsearch4.best_score_"
   ]
  },
  {
   "cell_type": "code",
   "execution_count": 240,
   "metadata": {
    "collapsed": false
   },
   "outputs": [
    {
     "data": {
      "text/plain": [
       "6239399.8027937682"
      ]
     },
     "execution_count": 240,
     "metadata": {},
     "output_type": "execute_result"
    }
   ],
   "source": [
    "mean_squared_error(y_test, gsearch4.best_estimator_.predict(X_test))"
   ]
  },
  {
   "cell_type": "code",
   "execution_count": 241,
   "metadata": {
    "collapsed": false
   },
   "outputs": [
    {
     "data": {
      "text/plain": [
       "([mean: -6294469.29641, std: 222053.72599, params: {'min_samples_leaf': 100},\n",
       "  mean: -6310173.90853, std: 224812.07748, params: {'min_samples_leaf': 110},\n",
       "  mean: -6312138.70864, std: 227677.77868, params: {'min_samples_leaf': 120},\n",
       "  mean: -6304752.01710, std: 205067.19401, params: {'min_samples_leaf': 130},\n",
       "  mean: -6298015.46822, std: 221626.89476, params: {'min_samples_leaf': 140},\n",
       "  mean: -6308521.22643, std: 218673.79576, params: {'min_samples_leaf': 150},\n",
       "  mean: -6303332.30696, std: 222507.88041, params: {'min_samples_leaf': 160},\n",
       "  mean: -6299993.18832, std: 217771.07132, params: {'min_samples_leaf': 170},\n",
       "  mean: -6297274.11813, std: 219705.73351, params: {'min_samples_leaf': 180},\n",
       "  mean: -6298663.03883, std: 215849.68177, params: {'min_samples_leaf': 190},\n",
       "  mean: -6308199.31040, std: 208140.62457, params: {'min_samples_leaf': 200}],\n",
       " {'min_samples_leaf': 100},\n",
       " -6294469.2964092093)"
      ]
     },
     "execution_count": 241,
     "metadata": {},
     "output_type": "execute_result"
    }
   ],
   "source": [
    "param_test5 = {'min_samples_leaf': range(100, 201, 10)}\n",
    "gsearch5 = GridSearchCV(estimator=GradientBoostingRegressor(learning_rate=0.1, n_estimators=70, max_depth=9, min_samples_split=600, max_features=10, subsample=0.8, random_state=6, verbose=2),\n",
    "                        param_grid=param_test5,\n",
    "                        scoring='mean_squared_error',\n",
    "                        cv=5,\n",
    "                        iid=False,\n",
    "                        n_jobs=-1,\n",
    "                        verbose=2)\n",
    "gsearch5.fit(X_train, y_train)\n",
    "gsearch5.grid_scores_, gsearch5.best_params_, gsearch5.best_score_"
   ]
  },
  {
   "cell_type": "code",
   "execution_count": 242,
   "metadata": {
    "collapsed": false
   },
   "outputs": [
    {
     "data": {
      "text/plain": [
       "([mean: -6326154.04182, std: 222115.83087, params: {'subsample': 0.6},\n",
       "  mean: -6306340.72169, std: 224320.33033, params: {'subsample': 0.7},\n",
       "  mean: -6311862.13002, std: 212917.41246, params: {'subsample': 0.75},\n",
       "  mean: -6294469.29641, std: 222053.72599, params: {'subsample': 0.8},\n",
       "  mean: -6307176.55834, std: 231585.26238, params: {'subsample': 0.85},\n",
       "  mean: -6303017.99256, std: 216325.89165, params: {'subsample': 0.9}],\n",
       " {'subsample': 0.8},\n",
       " -6294469.2964092093)"
      ]
     },
     "execution_count": 242,
     "metadata": {},
     "output_type": "execute_result"
    }
   ],
   "source": [
    "#Step 3: tune the 'subsample' parameter so as to lower the learning rate\n",
    "param_test6 = {'subsample': [0.6,0.7,0.75,0.8,0.85,0.9]}\n",
    "gsearch6 = GridSearchCV(estimator=GradientBoostingRegressor(learning_rate=0.1, n_estimators=70, max_depth=9, min_samples_split=600, min_samples_leaf=100, max_features=10, random_state=6, verbose=2),\n",
    "                        param_grid=param_test6,\n",
    "                        scoring='mean_squared_error',\n",
    "                        cv=5,\n",
    "                        iid=False,\n",
    "                        n_jobs=-1,\n",
    "                        verbose=2)\n",
    "gsearch6.fit(X_train, y_train)\n",
    "gsearch6.grid_scores_, gsearch6.best_params_, gsearch6.best_score_"
   ]
  },
  {
   "cell_type": "code",
   "execution_count": 278,
   "metadata": {
    "collapsed": false
   },
   "outputs": [
    {
     "data": {
      "text/plain": [
       "6239399.8027937682"
      ]
     },
     "execution_count": 278,
     "metadata": {},
     "output_type": "execute_result"
    }
   ],
   "source": [
    "mean_squared_error(y_test, gsearch6.best_estimator_.predict(X_test))"
   ]
  },
  {
   "cell_type": "code",
   "execution_count": 245,
   "metadata": {
    "collapsed": false
   },
   "outputs": [
    {
     "data": {
      "text/plain": [
       "6242140.835350927"
      ]
     },
     "execution_count": 245,
     "metadata": {},
     "output_type": "execute_result"
    }
   ],
   "source": [
    "#Step final: tune the learning_rate & n_estimators\n",
    "gbm_tuned_1 = GradientBoostingRegressor(learning_rate=0.05, n_estimators=140, max_depth=9, min_samples_split=600, min_samples_leaf=100, max_features=10, subsample=0.8, random_state=6, verbose=2)\n",
    "gbm_tuned_1.fit(X_train, y_train)\n",
    "mean_squared_error(y_test, gbm_tuned_1.predict(X_test))                     "
   ]
  },
  {
   "cell_type": "code",
   "execution_count": 246,
   "metadata": {
    "collapsed": false
   },
   "outputs": [
    {
     "data": {
      "text/plain": [
       "6232833.6086429721"
      ]
     },
     "execution_count": 246,
     "metadata": {},
     "output_type": "execute_result"
    }
   ],
   "source": [
    "gbm_tuned_2 = GradientBoostingRegressor(learning_rate=0.025, n_estimators=280, max_depth=9, min_samples_split=600, min_samples_leaf=100, max_features=10, subsample=0.8, random_state=6, verbose=2)\n",
    "gbm_tuned_2.fit(X_train, y_train)\n",
    "mean_squared_error(y_test, gbm_tuned_2.predict(X_test))  "
   ]
  },
  {
   "cell_type": "code",
   "execution_count": 247,
   "metadata": {
    "collapsed": false
   },
   "outputs": [
    {
     "data": {
      "text/plain": [
       "6226484.961615175"
      ]
     },
     "execution_count": 247,
     "metadata": {},
     "output_type": "execute_result"
    }
   ],
   "source": [
    "gbm_tuned_3 = GradientBoostingRegressor(learning_rate=0.01, n_estimators=700, max_depth=9, min_samples_split=600, min_samples_leaf=100, max_features=10, subsample=0.8, random_state=6, verbose=2)\n",
    "gbm_tuned_3.fit(X_train, y_train)\n",
    "mean_squared_error(y_test, gbm_tuned_3.predict(X_test)) "
   ]
  },
  {
   "cell_type": "code",
   "execution_count": 248,
   "metadata": {
    "collapsed": false
   },
   "outputs": [
    {
     "data": {
      "text/plain": [
       "6225068.1732226005"
      ]
     },
     "execution_count": 248,
     "metadata": {},
     "output_type": "execute_result"
    }
   ],
   "source": [
    "gbm_tuned_4 = GradientBoostingRegressor(learning_rate=0.005, n_estimators=1400, max_depth=9, min_samples_split=600, min_samples_leaf=100, max_features=10, subsample=0.8, random_state=6, verbose=2)\n",
    "gbm_tuned_4.fit(X_train, y_train)\n",
    "mean_squared_error(y_test, gbm_tuned_4.predict(X_test)) "
   ]
  },
  {
   "cell_type": "code",
   "execution_count": 249,
   "metadata": {
    "collapsed": false
   },
   "outputs": [
    {
     "data": {
      "text/plain": [
       "6221714.3353606537"
      ]
     },
     "execution_count": 249,
     "metadata": {},
     "output_type": "execute_result"
    }
   ],
   "source": [
    "gbm_tuned_5 = GradientBoostingRegressor(learning_rate=0.0025, n_estimators=2800, max_depth=9, min_samples_split=600, min_samples_leaf=100, max_features=10, subsample=0.8, random_state=6, warm_start=True, verbose=2)\n",
    "gbm_tuned_5.fit(X_train, y_train)\n",
    "mean_squared_error(y_test, gbm_tuned_5.predict(X_test)) "
   ]
  },
  {
   "cell_type": "code",
   "execution_count": null,
   "metadata": {
    "collapsed": true
   },
   "outputs": [],
   "source": [
    "'''\n",
    "Conclusion:\n",
    "Gradient Boosting model can have a better performance with about a MSE of 6220000 compated with the Random Forest \n",
    "performance with a MSE of 6260000. \n",
    "\n",
    "The model performance improves by 0.64%.\n",
    "'''"
   ]
  },
  {
   "cell_type": "code",
   "execution_count": 336,
   "metadata": {
    "collapsed": false
   },
   "outputs": [
    {
     "data": {
      "text/plain": [
       "0.31439256840480667"
      ]
     },
     "execution_count": 336,
     "metadata": {},
     "output_type": "execute_result"
    }
   ],
   "source": [
    "#Try a different metric to see the performance of our tuned model\n",
    "r2_score(y_test, gbm_tuned_5.predict(X_test))"
   ]
  },
  {
   "cell_type": "code",
   "execution_count": null,
   "metadata": {
    "collapsed": true
   },
   "outputs": [],
   "source": [
    "'''\n",
    "Summary:\n",
    "\n",
    "From the R^2 score, we can see that only about 30% of the target variable can be explained by our predictors. I think \n",
    "that the most important reason why this trained model doesn't perform very well is that there is a lack of valid \n",
    "strong or at least relatively relevant predictors. For example, the occupation or annual income of a customer is \n",
    "more predictive than the age or gender. All we have which is related to the target variable is the behavior of \n",
    "customers' maintenance. Besides, many of the predictors have tons of missing values, sometimes reaching almost half \n",
    "the total data, and erroneous data entries which interior staff of Yongda company can not even distinguish. \n",
    "\n",
    "However, compared with my colleagues' previous work, I have improved the model performance from a MSE of about 8000000\n",
    "to a MSE of about 6000000 through creative data preprocessing and feature engineering which are as follows:\n",
    "    1. Handling incorrect data entries \n",
    "    2. Adding new features like consumption behavior features related to the last half year\n",
    "    3. More careful way of handling missing data\n",
    "\n",
    "In the end, an improvement of 30% in MSE is a progress which can not be ignored.\n",
    "'''"
   ]
  }
 ],
 "metadata": {
  "kernelspec": {
   "display_name": "Python 2",
   "language": "python",
   "name": "python2"
  },
  "language_info": {
   "codemirror_mode": {
    "name": "ipython",
    "version": 2
   },
   "file_extension": ".py",
   "mimetype": "text/x-python",
   "name": "python",
   "nbconvert_exporter": "python",
   "pygments_lexer": "ipython2",
   "version": "2.7.12"
  }
 },
 "nbformat": 4,
 "nbformat_minor": 0
}
